{
 "cells": [
  {
   "cell_type": "markdown",
   "id": "632e8efc",
   "metadata": {},
   "source": [
    "## Problem Statement\n",
    "\n",
    "\n",
    "You are a data scientist working for a sports analytics company. The dataset, named **\"sports_league_data.csv\"** includes a variety of attributes for players in the league. The columns in the dataset are as follows:\n",
    "\n",
    "- **player_id:** A unique identifier for each player.\n",
    "- **age:** Age of the player.\n",
    "- **position:** The position the player typically plays in (e.g., Forward, Midfielder, Defender, Goalkeeper).\n",
    "- **team:** The team the player belongs to.\n",
    "- **games_played:** The total number of games played by the player in the season.\n",
    "- **player_rating:** An overall performance rating for the player for the season."
   ]
  },
  {
   "cell_type": "code",
   "execution_count": null,
   "id": "e9c234f5",
   "metadata": {},
   "outputs": [],
   "source": []
  },
  {
   "cell_type": "markdown",
   "id": "3a64f293",
   "metadata": {},
   "source": [
    "**Import Necessary Libraries**"
   ]
  },
  {
   "cell_type": "code",
   "execution_count": 1,
   "id": "8a8c938b",
   "metadata": {},
   "outputs": [],
   "source": [
    "import pandas as pd\n",
    "from matplotlib import pyplot as plt\n",
    "import seaborn as sns"
   ]
  },
  {
   "cell_type": "markdown",
   "id": "e80ff04b",
   "metadata": {},
   "source": [
    "## Task1\n",
    "\n",
    "1. Import the data from the \"sports_league_data.csv\" file.\n",
    "2. display the number of rows and columns. \n",
    "3. Display the first few rows of the dataset to get an overview.\n"
   ]
  },
  {
   "cell_type": "code",
   "execution_count": 2,
   "id": "c355cb68",
   "metadata": {},
   "outputs": [
    {
     "data": {
      "text/plain": [
       "(1000, 6)"
      ]
     },
     "execution_count": 2,
     "metadata": {},
     "output_type": "execute_result"
    }
   ],
   "source": [
    "df = pd.read_csv(\"sports_league_data.csv\")\n",
    "df.shape"
   ]
  },
  {
   "cell_type": "code",
   "execution_count": 3,
   "id": "efd9b904-234a-4134-af32-ed53af6f84e3",
   "metadata": {},
   "outputs": [
    {
     "data": {
      "text/html": [
       "<div>\n",
       "<style scoped>\n",
       "    .dataframe tbody tr th:only-of-type {\n",
       "        vertical-align: middle;\n",
       "    }\n",
       "\n",
       "    .dataframe tbody tr th {\n",
       "        vertical-align: top;\n",
       "    }\n",
       "\n",
       "    .dataframe thead th {\n",
       "        text-align: right;\n",
       "    }\n",
       "</style>\n",
       "<table border=\"1\" class=\"dataframe\">\n",
       "  <thead>\n",
       "    <tr style=\"text-align: right;\">\n",
       "      <th></th>\n",
       "      <th>player_id</th>\n",
       "      <th>age</th>\n",
       "      <th>position</th>\n",
       "      <th>team</th>\n",
       "      <th>games_played</th>\n",
       "      <th>player_rating</th>\n",
       "    </tr>\n",
       "  </thead>\n",
       "  <tbody>\n",
       "    <tr>\n",
       "      <th>0</th>\n",
       "      <td>P0001</td>\n",
       "      <td>34</td>\n",
       "      <td>Forward</td>\n",
       "      <td>Team 14</td>\n",
       "      <td>29</td>\n",
       "      <td>7.2</td>\n",
       "    </tr>\n",
       "    <tr>\n",
       "      <th>1</th>\n",
       "      <td>P0002</td>\n",
       "      <td>29</td>\n",
       "      <td>Defender</td>\n",
       "      <td>Team 15</td>\n",
       "      <td>27</td>\n",
       "      <td>8.3</td>\n",
       "    </tr>\n",
       "    <tr>\n",
       "      <th>2</th>\n",
       "      <td>P0003</td>\n",
       "      <td>31</td>\n",
       "      <td>Goalkeeper</td>\n",
       "      <td>Team 4</td>\n",
       "      <td>39</td>\n",
       "      <td>6.4</td>\n",
       "    </tr>\n",
       "    <tr>\n",
       "      <th>3</th>\n",
       "      <td>P0004</td>\n",
       "      <td>36</td>\n",
       "      <td>Goalkeeper</td>\n",
       "      <td>Team 6</td>\n",
       "      <td>35</td>\n",
       "      <td>6.6</td>\n",
       "    </tr>\n",
       "    <tr>\n",
       "      <th>4</th>\n",
       "      <td>P0005</td>\n",
       "      <td>34</td>\n",
       "      <td>Defender</td>\n",
       "      <td>Team 14</td>\n",
       "      <td>26</td>\n",
       "      <td>7.2</td>\n",
       "    </tr>\n",
       "  </tbody>\n",
       "</table>\n",
       "</div>"
      ],
      "text/plain": [
       "  player_id  age    position     team  games_played  player_rating\n",
       "0     P0001   34     Forward  Team 14            29            7.2\n",
       "1     P0002   29    Defender  Team 15            27            8.3\n",
       "2     P0003   31  Goalkeeper   Team 4            39            6.4\n",
       "3     P0004   36  Goalkeeper   Team 6            35            6.6\n",
       "4     P0005   34    Defender  Team 14            26            7.2"
      ]
     },
     "execution_count": 3,
     "metadata": {},
     "output_type": "execute_result"
    }
   ],
   "source": [
    "df.head()"
   ]
  },
  {
   "cell_type": "code",
   "execution_count": 4,
   "id": "5ac7a3ab-58b9-4731-b290-6780932bc8e4",
   "metadata": {},
   "outputs": [
    {
     "data": {
      "text/plain": [
       "0      False\n",
       "1      False\n",
       "2      False\n",
       "3      False\n",
       "4      False\n",
       "       ...  \n",
       "995    False\n",
       "996    False\n",
       "997    False\n",
       "998    False\n",
       "999    False\n",
       "Name: age, Length: 1000, dtype: bool"
      ]
     },
     "execution_count": 4,
     "metadata": {},
     "output_type": "execute_result"
    }
   ],
   "source": [
    "df.age.isnull()"
   ]
  },
  {
   "cell_type": "markdown",
   "id": "f865e3b1",
   "metadata": {},
   "source": [
    "## Task2:\n",
    "\n",
    "**Age Analysis:**\n",
    "- Mean: Calculate the average age of players in the league.\n",
    "- Standard Deviation Intervals:\n",
    "    - Calculate the age range within one standard deviation of the mean.\n",
    "    - Calculate the age range within two standard deviations of the mean.\n",
    "    - Calculate the age range within three standard deviations of the mean.\n",
    "  "
   ]
  },
  {
   "cell_type": "code",
   "execution_count": 5,
   "id": "6a8199fa",
   "metadata": {},
   "outputs": [
    {
     "data": {
      "text/plain": [
       "26"
      ]
     },
     "execution_count": 5,
     "metadata": {},
     "output_type": "execute_result"
    }
   ],
   "source": [
    "mean = int(df.age.mean())\n",
    "mean"
   ]
  },
  {
   "cell_type": "code",
   "execution_count": 6,
   "id": "9c5606df-4bc5-4bf9-900c-16398b950e7d",
   "metadata": {},
   "outputs": [
    {
     "data": {
      "text/plain": [
       "4"
      ]
     },
     "execution_count": 6,
     "metadata": {},
     "output_type": "execute_result"
    }
   ],
   "source": [
    "std = int(df.age.std())\n",
    "std"
   ]
  },
  {
   "cell_type": "code",
   "execution_count": 9,
   "id": "5bea9976-4aa5-42f4-8fca-cf9a1949265d",
   "metadata": {},
   "outputs": [
    {
     "data": {
      "text/plain": [
       "(14, 38)"
      ]
     },
     "execution_count": 9,
     "metadata": {},
     "output_type": "execute_result"
    }
   ],
   "source": [
    "lower_3 = round(mean - 3*std,2)\n",
    "upper_3 = round(mean + 3*std,2)\n",
    "lower_3,upper_3"
   ]
  },
  {
   "cell_type": "markdown",
   "id": "25ccac48",
   "metadata": {},
   "source": [
    "## Task3:\n",
    "\n",
    "**Player Rating Analysis:**\n",
    "- Mean: Determine the average player rating across the league.\n",
    "- Standard Deviation Intervals:\n",
    "    - Calculate the player rating range within one standard deviation of the mean.\n",
    "    - Calculate the player rating range within two standard deviations of the mean.\n",
    "    - Calculate the player rating range within three standard deviations of the mean."
   ]
  },
  {
   "cell_type": "code",
   "execution_count": 10,
   "id": "19d1a340",
   "metadata": {},
   "outputs": [
    {
     "data": {
      "text/plain": [
       "6"
      ]
     },
     "execution_count": 10,
     "metadata": {},
     "output_type": "execute_result"
    }
   ],
   "source": [
    "mean_player_rating = int(df.player_rating.mean())\n",
    "mean_player_rating"
   ]
  },
  {
   "cell_type": "code",
   "execution_count": 11,
   "id": "37379b8b-6917-49e7-87d0-cb3184a3e231",
   "metadata": {},
   "outputs": [
    {
     "data": {
      "text/plain": [
       "1"
      ]
     },
     "execution_count": 11,
     "metadata": {},
     "output_type": "execute_result"
    }
   ],
   "source": [
    "std_player_rating = int(df.player_rating.std())\n",
    "std_player_rating"
   ]
  },
  {
   "cell_type": "code",
   "execution_count": 14,
   "id": "1771e633-6d1e-4a9e-9d27-bda73749519d",
   "metadata": {},
   "outputs": [
    {
     "data": {
      "text/plain": [
       "(3, 9)"
      ]
     },
     "execution_count": 14,
     "metadata": {},
     "output_type": "execute_result"
    }
   ],
   "source": [
    "lower_3_player = round(mean_player_rating - 3*std_player_rating,2)\n",
    "upper_3_player = round(mean_player_rating + 3*std_player_rating,2)\n",
    "lower_3_player,upper_3_player"
   ]
  },
  {
   "cell_type": "markdown",
   "id": "9a1d87b7",
   "metadata": {},
   "source": [
    "## Task4:\n",
    "\n",
    "Create histogram with Kernel Density Estimation (KDE) plots for both the 'age' and 'player_rating' columns from the dataset. While constructing these plots, ensure to visually represent the standard deviation intervals on the graph.\n"
   ]
  },
  {
   "cell_type": "markdown",
   "id": "f23088ec",
   "metadata": {},
   "source": [
    "- **'age'**"
   ]
  },
  {
   "cell_type": "code",
   "execution_count": 15,
   "id": "46496dc6",
   "metadata": {},
   "outputs": [
    {
     "data": {
      "text/plain": [
       "<matplotlib.lines.Line2D at 0x19cacb60ca0>"
      ]
     },
     "execution_count": 15,
     "metadata": {},
     "output_type": "execute_result"
    },
    {
     "data": {
      "image/png": "[encoded data removed]",
      "text/plain": [
       "<Figure size 640x480 with 1 Axes>"
      ]
     },
     "metadata": {},
     "output_type": "display_data"
    }
   ],
   "source": [
    "sns.histplot(df.age, kde=True)\n",
    "\n",
    "plt.axvline(mean, color='k', linestyle='dashed', linewidth=1)\n",
    "\n",
    "# one stadard deviation\n",
    "plt.axvline(mean + std, color='r', linestyle='dashed', linewidth=1)\n",
    "plt.axvline(mean - std, color='r', linestyle='dashed', linewidth=1)\n",
    "\n",
    "# two standard deviation\n",
    "plt.axvline(mean + 2*std, color='g', linestyle='dashed', linewidth=1)\n",
    "plt.axvline(mean - 2*std, color='g', linestyle='dashed', linewidth=1)\n",
    "\n",
    "# three standard deviation\n",
    "plt.axvline(mean + 3*std, color='b', linestyle='dashed', linewidth=1)\n",
    "plt.axvline(mean - 3*std, color='b', linestyle='dashed', linewidth=1)"
   ]
  },
  {
   "cell_type": "markdown",
   "id": "d5796d1a",
   "metadata": {},
   "source": [
    "- **'player_rating'**"
   ]
  },
  {
   "cell_type": "code",
   "execution_count": 16,
   "id": "21b7ead2",
   "metadata": {},
   "outputs": [
    {
     "data": {
      "text/plain": [
       "<matplotlib.lines.Line2D at 0x19cad38caf0>"
      ]
     },
     "execution_count": 16,
     "metadata": {},
     "output_type": "execute_result"
    },
    {
     "data": {
      "image/png": "[encoded data removed]",
      "text/plain": [
       "<Figure size 640x480 with 1 Axes>"
      ]
     },
     "metadata": {},
     "output_type": "display_data"
    }
   ],
   "source": [
    "sns.histplot(df.player_rating, kde=True)\n",
    "\n",
    "plt.axvline(mean_player_rating, color='k', linestyle='dashed', linewidth=1)\n",
    "\n",
    "# one stadard deviation\n",
    "plt.axvline(mean_player_rating + std_player_rating, color='r', linestyle='dashed', linewidth=1)\n",
    "plt.axvline(mean_player_rating - std_player_rating, color='r', linestyle='dashed', linewidth=1)\n",
    "\n",
    "# two standard deviation\n",
    "plt.axvline(mean_player_rating + 2*std_player_rating, color='g', linestyle='dashed', linewidth=1)\n",
    "plt.axvline(mean_player_rating - 2*std_player_rating, color='g', linestyle='dashed', linewidth=1)\n",
    "\n",
    "# three standard deviation\n",
    "plt.axvline(mean_player_rating + 3*std_player_rating, color='b', linestyle='dashed', linewidth=1)\n",
    "plt.axvline(mean_player_rating - 3*std_player_rating, color='b', linestyle='dashed', linewidth=1)"
   ]
  },
  {
   "cell_type": "markdown",
   "id": "2ce87d11",
   "metadata": {},
   "source": [
    "## Task5\n",
    "\n",
    "- Calculate the lower and upper boundaries for the 'Age' and 'Player_Rating' columns. \n",
    "- For each column, identify values that fall outside the calculated lower and upper boundaries. These values are considered outliers."
   ]
  },
  {
   "cell_type": "markdown",
   "id": "3986392d",
   "metadata": {},
   "source": [
    "- **Display age outliers**"
   ]
  },
  {
   "cell_type": "markdown",
   "id": "6899e86b-8a23-4d10-8767-7ca3357d0534",
   "metadata": {},
   "source": [
    "- Calculate the lower and upper boundaries for the 'Age' and 'Player_Rating' columns. \n"
   ]
  },
  {
   "cell_type": "code",
   "execution_count": 17,
   "id": "18f38082-62af-47fa-adbe-e4ee9787e6a9",
   "metadata": {},
   "outputs": [
    {
     "data": {
      "text/plain": [
       "26"
      ]
     },
     "execution_count": 17,
     "metadata": {},
     "output_type": "execute_result"
    }
   ],
   "source": [
    "mean = int(df.age.mean())\n",
    "mean\n"
   ]
  },
  {
   "cell_type": "code",
   "execution_count": 18,
   "id": "ebd836c4-d368-4952-83e3-d191fef35d5a",
   "metadata": {},
   "outputs": [
    {
     "data": {
      "text/plain": [
       "4"
      ]
     },
     "execution_count": 18,
     "metadata": {},
     "output_type": "execute_result"
    }
   ],
   "source": [
    "std = int(df.age.std())\n",
    "std"
   ]
  },
  {
   "cell_type": "code",
   "execution_count": 19,
   "id": "4e825646-1c90-44ac-8d60-8e87a58e4ec8",
   "metadata": {},
   "outputs": [
    {
     "data": {
      "text/plain": [
       "(14, 38)"
      ]
     },
     "execution_count": 19,
     "metadata": {},
     "output_type": "execute_result"
    }
   ],
   "source": [
    "lower = mean - 3*std\n",
    "upper = mean + 3*std\n",
    "\n",
    "lower,upper"
   ]
  },
  {
   "cell_type": "code",
   "execution_count": 20,
   "id": "9becb5b7-6a91-49ae-94dd-d594aabeb966",
   "metadata": {},
   "outputs": [],
   "source": [
    "outliers = df[(df.age<lower)|(df.age>upper)]"
   ]
  },
  {
   "cell_type": "code",
   "execution_count": 21,
   "id": "93284d38-44e1-4a46-b515-8391727ef086",
   "metadata": {},
   "outputs": [],
   "source": [
    "df_new_age = df[(df.age>lower)&(df.age<upper)]"
   ]
  },
  {
   "cell_type": "code",
   "execution_count": 22,
   "id": "077330e6-f6a3-48a1-aedd-c29f1a95b821",
   "metadata": {},
   "outputs": [
    {
     "data": {
      "text/html": [
       "<div>\n",
       "<style scoped>\n",
       "    .dataframe tbody tr th:only-of-type {\n",
       "        vertical-align: middle;\n",
       "    }\n",
       "\n",
       "    .dataframe tbody tr th {\n",
       "        vertical-align: top;\n",
       "    }\n",
       "\n",
       "    .dataframe thead th {\n",
       "        text-align: right;\n",
       "    }\n",
       "</style>\n",
       "<table border=\"1\" class=\"dataframe\">\n",
       "  <thead>\n",
       "    <tr style=\"text-align: right;\">\n",
       "      <th></th>\n",
       "      <th>player_id</th>\n",
       "      <th>age</th>\n",
       "      <th>position</th>\n",
       "      <th>team</th>\n",
       "      <th>games_played</th>\n",
       "      <th>player_rating</th>\n",
       "    </tr>\n",
       "  </thead>\n",
       "  <tbody>\n",
       "    <tr>\n",
       "      <th>0</th>\n",
       "      <td>P0001</td>\n",
       "      <td>34</td>\n",
       "      <td>Forward</td>\n",
       "      <td>Team 14</td>\n",
       "      <td>29</td>\n",
       "      <td>7.2</td>\n",
       "    </tr>\n",
       "    <tr>\n",
       "      <th>1</th>\n",
       "      <td>P0002</td>\n",
       "      <td>29</td>\n",
       "      <td>Defender</td>\n",
       "      <td>Team 15</td>\n",
       "      <td>27</td>\n",
       "      <td>8.3</td>\n",
       "    </tr>\n",
       "    <tr>\n",
       "      <th>2</th>\n",
       "      <td>P0003</td>\n",
       "      <td>31</td>\n",
       "      <td>Goalkeeper</td>\n",
       "      <td>Team 4</td>\n",
       "      <td>39</td>\n",
       "      <td>6.4</td>\n",
       "    </tr>\n",
       "    <tr>\n",
       "      <th>3</th>\n",
       "      <td>P0004</td>\n",
       "      <td>36</td>\n",
       "      <td>Goalkeeper</td>\n",
       "      <td>Team 6</td>\n",
       "      <td>35</td>\n",
       "      <td>6.6</td>\n",
       "    </tr>\n",
       "    <tr>\n",
       "      <th>4</th>\n",
       "      <td>P0005</td>\n",
       "      <td>34</td>\n",
       "      <td>Defender</td>\n",
       "      <td>Team 14</td>\n",
       "      <td>26</td>\n",
       "      <td>7.2</td>\n",
       "    </tr>\n",
       "    <tr>\n",
       "      <th>...</th>\n",
       "      <td>...</td>\n",
       "      <td>...</td>\n",
       "      <td>...</td>\n",
       "      <td>...</td>\n",
       "      <td>...</td>\n",
       "      <td>...</td>\n",
       "    </tr>\n",
       "    <tr>\n",
       "      <th>995</th>\n",
       "      <td>P0996</td>\n",
       "      <td>29</td>\n",
       "      <td>Defender</td>\n",
       "      <td>Team 19</td>\n",
       "      <td>22</td>\n",
       "      <td>7.6</td>\n",
       "    </tr>\n",
       "    <tr>\n",
       "      <th>996</th>\n",
       "      <td>P0997</td>\n",
       "      <td>26</td>\n",
       "      <td>Defender</td>\n",
       "      <td>Team 10</td>\n",
       "      <td>39</td>\n",
       "      <td>4.4</td>\n",
       "    </tr>\n",
       "    <tr>\n",
       "      <th>997</th>\n",
       "      <td>P0998</td>\n",
       "      <td>27</td>\n",
       "      <td>Forward</td>\n",
       "      <td>Team 8</td>\n",
       "      <td>40</td>\n",
       "      <td>6.4</td>\n",
       "    </tr>\n",
       "    <tr>\n",
       "      <th>998</th>\n",
       "      <td>P0999</td>\n",
       "      <td>22</td>\n",
       "      <td>Defender</td>\n",
       "      <td>Team 10</td>\n",
       "      <td>27</td>\n",
       "      <td>6.0</td>\n",
       "    </tr>\n",
       "    <tr>\n",
       "      <th>999</th>\n",
       "      <td>P1000</td>\n",
       "      <td>26</td>\n",
       "      <td>Defender</td>\n",
       "      <td>Team 9</td>\n",
       "      <td>34</td>\n",
       "      <td>7.2</td>\n",
       "    </tr>\n",
       "  </tbody>\n",
       "</table>\n",
       "<p>981 rows × 6 columns</p>\n",
       "</div>"
      ],
      "text/plain": [
       "    player_id  age    position     team  games_played  player_rating\n",
       "0       P0001   34     Forward  Team 14            29            7.2\n",
       "1       P0002   29    Defender  Team 15            27            8.3\n",
       "2       P0003   31  Goalkeeper   Team 4            39            6.4\n",
       "3       P0004   36  Goalkeeper   Team 6            35            6.6\n",
       "4       P0005   34    Defender  Team 14            26            7.2\n",
       "..        ...  ...         ...      ...           ...            ...\n",
       "995     P0996   29    Defender  Team 19            22            7.6\n",
       "996     P0997   26    Defender  Team 10            39            4.4\n",
       "997     P0998   27     Forward   Team 8            40            6.4\n",
       "998     P0999   22    Defender  Team 10            27            6.0\n",
       "999     P1000   26    Defender   Team 9            34            7.2\n",
       "\n",
       "[981 rows x 6 columns]"
      ]
     },
     "execution_count": 22,
     "metadata": {},
     "output_type": "execute_result"
    }
   ],
   "source": [
    "df_new_age"
   ]
  },
  {
   "cell_type": "markdown",
   "id": "af6a0dec",
   "metadata": {},
   "source": [
    "- **Display player_rating outliers**"
   ]
  },
  {
   "cell_type": "code",
   "execution_count": 23,
   "id": "c024e12e",
   "metadata": {},
   "outputs": [
    {
     "data": {
      "text/plain": [
       "6"
      ]
     },
     "execution_count": 23,
     "metadata": {},
     "output_type": "execute_result"
    }
   ],
   "source": [
    "mean = int(df.player_rating.mean())\n",
    "mean"
   ]
  },
  {
   "cell_type": "code",
   "execution_count": 24,
   "id": "e74e3811-8981-47f7-a138-c5fe331817da",
   "metadata": {},
   "outputs": [
    {
     "data": {
      "text/plain": [
       "1"
      ]
     },
     "execution_count": 24,
     "metadata": {},
     "output_type": "execute_result"
    }
   ],
   "source": [
    "std = int(df.player_rating.std())\n",
    "std"
   ]
  },
  {
   "cell_type": "code",
   "execution_count": 25,
   "id": "28899a09-999b-4805-ba9c-703ffbe44318",
   "metadata": {},
   "outputs": [
    {
     "data": {
      "text/plain": [
       "(3, 9)"
      ]
     },
     "execution_count": 25,
     "metadata": {},
     "output_type": "execute_result"
    }
   ],
   "source": [
    "lowe_player = mean - 3*std\n",
    "upper_player = mean + 3*std\n",
    "lowe_player,upper_player"
   ]
  },
  {
   "cell_type": "code",
   "execution_count": 34,
   "id": "588ae125-4396-472b-b482-51bf99b3f9b5",
   "metadata": {},
   "outputs": [],
   "source": [
    "outliers_players = df[(df[\"player_rating\"]<lowe_player)|(df[\"player_rating\"]>upper_player)]"
   ]
  },
  {
   "cell_type": "code",
   "execution_count": 35,
   "id": "f1da01b9-6f6e-43f7-bdfb-69f6cc7ab38d",
   "metadata": {},
   "outputs": [
    {
     "data": {
      "text/html": [
       "<div>\n",
       "<style scoped>\n",
       "    .dataframe tbody tr th:only-of-type {\n",
       "        vertical-align: middle;\n",
       "    }\n",
       "\n",
       "    .dataframe tbody tr th {\n",
       "        vertical-align: top;\n",
       "    }\n",
       "\n",
       "    .dataframe thead th {\n",
       "        text-align: right;\n",
       "    }\n",
       "</style>\n",
       "<table border=\"1\" class=\"dataframe\">\n",
       "  <thead>\n",
       "    <tr style=\"text-align: right;\">\n",
       "      <th></th>\n",
       "      <th>player_id</th>\n",
       "      <th>age</th>\n",
       "      <th>position</th>\n",
       "      <th>team</th>\n",
       "      <th>games_played</th>\n",
       "      <th>player_rating</th>\n",
       "    </tr>\n",
       "  </thead>\n",
       "  <tbody>\n",
       "    <tr>\n",
       "      <th>32</th>\n",
       "      <td>P0033</td>\n",
       "      <td>23</td>\n",
       "      <td>Defender</td>\n",
       "      <td>Team 1</td>\n",
       "      <td>29</td>\n",
       "      <td>2.0</td>\n",
       "    </tr>\n",
       "    <tr>\n",
       "      <th>41</th>\n",
       "      <td>P0042</td>\n",
       "      <td>21</td>\n",
       "      <td>Goalkeeper</td>\n",
       "      <td>Team 19</td>\n",
       "      <td>27</td>\n",
       "      <td>13.0</td>\n",
       "    </tr>\n",
       "    <tr>\n",
       "      <th>96</th>\n",
       "      <td>P0097</td>\n",
       "      <td>27</td>\n",
       "      <td>Defender</td>\n",
       "      <td>Team 2</td>\n",
       "      <td>37</td>\n",
       "      <td>2.0</td>\n",
       "    </tr>\n",
       "    <tr>\n",
       "      <th>102</th>\n",
       "      <td>P0103</td>\n",
       "      <td>22</td>\n",
       "      <td>Defender</td>\n",
       "      <td>Team 1</td>\n",
       "      <td>31</td>\n",
       "      <td>2.7</td>\n",
       "    </tr>\n",
       "    <tr>\n",
       "      <th>108</th>\n",
       "      <td>P0109</td>\n",
       "      <td>35</td>\n",
       "      <td>Forward</td>\n",
       "      <td>Team 2</td>\n",
       "      <td>35</td>\n",
       "      <td>9.4</td>\n",
       "    </tr>\n",
       "    <tr>\n",
       "      <th>116</th>\n",
       "      <td>P0117</td>\n",
       "      <td>31</td>\n",
       "      <td>Goalkeeper</td>\n",
       "      <td>Team 19</td>\n",
       "      <td>25</td>\n",
       "      <td>2.1</td>\n",
       "    </tr>\n",
       "    <tr>\n",
       "      <th>185</th>\n",
       "      <td>P0186</td>\n",
       "      <td>21</td>\n",
       "      <td>Midfielder</td>\n",
       "      <td>Team 4</td>\n",
       "      <td>29</td>\n",
       "      <td>9.9</td>\n",
       "    </tr>\n",
       "    <tr>\n",
       "      <th>193</th>\n",
       "      <td>P0194</td>\n",
       "      <td>22</td>\n",
       "      <td>Defender</td>\n",
       "      <td>Team 11</td>\n",
       "      <td>26</td>\n",
       "      <td>9.5</td>\n",
       "    </tr>\n",
       "    <tr>\n",
       "      <th>194</th>\n",
       "      <td>P0195</td>\n",
       "      <td>29</td>\n",
       "      <td>Forward</td>\n",
       "      <td>Team 6</td>\n",
       "      <td>33</td>\n",
       "      <td>1.0</td>\n",
       "    </tr>\n",
       "    <tr>\n",
       "      <th>212</th>\n",
       "      <td>P0213</td>\n",
       "      <td>30</td>\n",
       "      <td>Defender</td>\n",
       "      <td>Team 7</td>\n",
       "      <td>26</td>\n",
       "      <td>15.0</td>\n",
       "    </tr>\n",
       "    <tr>\n",
       "      <th>297</th>\n",
       "      <td>P0298</td>\n",
       "      <td>29</td>\n",
       "      <td>Goalkeeper</td>\n",
       "      <td>Team 17</td>\n",
       "      <td>31</td>\n",
       "      <td>2.0</td>\n",
       "    </tr>\n",
       "    <tr>\n",
       "      <th>299</th>\n",
       "      <td>P0300</td>\n",
       "      <td>28</td>\n",
       "      <td>Midfielder</td>\n",
       "      <td>Team 3</td>\n",
       "      <td>21</td>\n",
       "      <td>9.6</td>\n",
       "    </tr>\n",
       "    <tr>\n",
       "      <th>301</th>\n",
       "      <td>P0302</td>\n",
       "      <td>34</td>\n",
       "      <td>Defender</td>\n",
       "      <td>Team 19</td>\n",
       "      <td>30</td>\n",
       "      <td>15.0</td>\n",
       "    </tr>\n",
       "    <tr>\n",
       "      <th>315</th>\n",
       "      <td>P0316</td>\n",
       "      <td>27</td>\n",
       "      <td>Midfielder</td>\n",
       "      <td>Team 15</td>\n",
       "      <td>28</td>\n",
       "      <td>13.0</td>\n",
       "    </tr>\n",
       "    <tr>\n",
       "      <th>349</th>\n",
       "      <td>P0350</td>\n",
       "      <td>28</td>\n",
       "      <td>Defender</td>\n",
       "      <td>Team 12</td>\n",
       "      <td>25</td>\n",
       "      <td>10.0</td>\n",
       "    </tr>\n",
       "    <tr>\n",
       "      <th>352</th>\n",
       "      <td>P0353</td>\n",
       "      <td>32</td>\n",
       "      <td>Goalkeeper</td>\n",
       "      <td>Team 20</td>\n",
       "      <td>20</td>\n",
       "      <td>10.0</td>\n",
       "    </tr>\n",
       "    <tr>\n",
       "      <th>375</th>\n",
       "      <td>P0376</td>\n",
       "      <td>29</td>\n",
       "      <td>Forward</td>\n",
       "      <td>Team 3</td>\n",
       "      <td>29</td>\n",
       "      <td>9.7</td>\n",
       "    </tr>\n",
       "    <tr>\n",
       "      <th>387</th>\n",
       "      <td>P0388</td>\n",
       "      <td>21</td>\n",
       "      <td>Goalkeeper</td>\n",
       "      <td>Team 1</td>\n",
       "      <td>35</td>\n",
       "      <td>14.0</td>\n",
       "    </tr>\n",
       "    <tr>\n",
       "      <th>397</th>\n",
       "      <td>P0398</td>\n",
       "      <td>32</td>\n",
       "      <td>Midfielder</td>\n",
       "      <td>Team 4</td>\n",
       "      <td>34</td>\n",
       "      <td>14.0</td>\n",
       "    </tr>\n",
       "    <tr>\n",
       "      <th>430</th>\n",
       "      <td>P0431</td>\n",
       "      <td>25</td>\n",
       "      <td>Defender</td>\n",
       "      <td>Team 11</td>\n",
       "      <td>37</td>\n",
       "      <td>9.1</td>\n",
       "    </tr>\n",
       "    <tr>\n",
       "      <th>438</th>\n",
       "      <td>P0439</td>\n",
       "      <td>30</td>\n",
       "      <td>Midfielder</td>\n",
       "      <td>Team 11</td>\n",
       "      <td>26</td>\n",
       "      <td>15.0</td>\n",
       "    </tr>\n",
       "    <tr>\n",
       "      <th>456</th>\n",
       "      <td>P0457</td>\n",
       "      <td>25</td>\n",
       "      <td>Forward</td>\n",
       "      <td>Team 4</td>\n",
       "      <td>27</td>\n",
       "      <td>12.0</td>\n",
       "    </tr>\n",
       "    <tr>\n",
       "      <th>649</th>\n",
       "      <td>P0650</td>\n",
       "      <td>33</td>\n",
       "      <td>Forward</td>\n",
       "      <td>Team 5</td>\n",
       "      <td>31</td>\n",
       "      <td>1.0</td>\n",
       "    </tr>\n",
       "    <tr>\n",
       "      <th>657</th>\n",
       "      <td>P0658</td>\n",
       "      <td>22</td>\n",
       "      <td>Forward</td>\n",
       "      <td>Team 5</td>\n",
       "      <td>27</td>\n",
       "      <td>9.6</td>\n",
       "    </tr>\n",
       "    <tr>\n",
       "      <th>668</th>\n",
       "      <td>P0669</td>\n",
       "      <td>19</td>\n",
       "      <td>Defender</td>\n",
       "      <td>Team 12</td>\n",
       "      <td>26</td>\n",
       "      <td>9.1</td>\n",
       "    </tr>\n",
       "    <tr>\n",
       "      <th>687</th>\n",
       "      <td>P0688</td>\n",
       "      <td>21</td>\n",
       "      <td>Defender</td>\n",
       "      <td>Team 20</td>\n",
       "      <td>31</td>\n",
       "      <td>2.0</td>\n",
       "    </tr>\n",
       "    <tr>\n",
       "      <th>698</th>\n",
       "      <td>P0699</td>\n",
       "      <td>28</td>\n",
       "      <td>Midfielder</td>\n",
       "      <td>Team 14</td>\n",
       "      <td>22</td>\n",
       "      <td>14.0</td>\n",
       "    </tr>\n",
       "    <tr>\n",
       "      <th>732</th>\n",
       "      <td>P0733</td>\n",
       "      <td>25</td>\n",
       "      <td>Goalkeeper</td>\n",
       "      <td>Team 1</td>\n",
       "      <td>28</td>\n",
       "      <td>9.1</td>\n",
       "    </tr>\n",
       "    <tr>\n",
       "      <th>744</th>\n",
       "      <td>P0745</td>\n",
       "      <td>24</td>\n",
       "      <td>Forward</td>\n",
       "      <td>Team 8</td>\n",
       "      <td>22</td>\n",
       "      <td>15.0</td>\n",
       "    </tr>\n",
       "    <tr>\n",
       "      <th>772</th>\n",
       "      <td>P0773</td>\n",
       "      <td>23</td>\n",
       "      <td>Forward</td>\n",
       "      <td>Team 7</td>\n",
       "      <td>37</td>\n",
       "      <td>9.1</td>\n",
       "    </tr>\n",
       "    <tr>\n",
       "      <th>774</th>\n",
       "      <td>P0775</td>\n",
       "      <td>26</td>\n",
       "      <td>Forward</td>\n",
       "      <td>Team 15</td>\n",
       "      <td>27</td>\n",
       "      <td>10.0</td>\n",
       "    </tr>\n",
       "    <tr>\n",
       "      <th>839</th>\n",
       "      <td>P0840</td>\n",
       "      <td>28</td>\n",
       "      <td>Forward</td>\n",
       "      <td>Team 1</td>\n",
       "      <td>38</td>\n",
       "      <td>9.3</td>\n",
       "    </tr>\n",
       "    <tr>\n",
       "      <th>875</th>\n",
       "      <td>P0876</td>\n",
       "      <td>23</td>\n",
       "      <td>Forward</td>\n",
       "      <td>Team 14</td>\n",
       "      <td>27</td>\n",
       "      <td>9.2</td>\n",
       "    </tr>\n",
       "    <tr>\n",
       "      <th>881</th>\n",
       "      <td>P0882</td>\n",
       "      <td>23</td>\n",
       "      <td>Midfielder</td>\n",
       "      <td>Team 1</td>\n",
       "      <td>32</td>\n",
       "      <td>1.0</td>\n",
       "    </tr>\n",
       "    <tr>\n",
       "      <th>892</th>\n",
       "      <td>P0893</td>\n",
       "      <td>31</td>\n",
       "      <td>Midfielder</td>\n",
       "      <td>Team 8</td>\n",
       "      <td>24</td>\n",
       "      <td>10.0</td>\n",
       "    </tr>\n",
       "    <tr>\n",
       "      <th>959</th>\n",
       "      <td>P0960</td>\n",
       "      <td>22</td>\n",
       "      <td>Goalkeeper</td>\n",
       "      <td>Team 18</td>\n",
       "      <td>26</td>\n",
       "      <td>2.3</td>\n",
       "    </tr>\n",
       "    <tr>\n",
       "      <th>985</th>\n",
       "      <td>P0986</td>\n",
       "      <td>29</td>\n",
       "      <td>Forward</td>\n",
       "      <td>Team 15</td>\n",
       "      <td>37</td>\n",
       "      <td>12.0</td>\n",
       "    </tr>\n",
       "  </tbody>\n",
       "</table>\n",
       "</div>"
      ],
      "text/plain": [
       "    player_id  age    position     team  games_played  player_rating\n",
       "32      P0033   23    Defender   Team 1            29            2.0\n",
       "41      P0042   21  Goalkeeper  Team 19            27           13.0\n",
       "96      P0097   27    Defender   Team 2            37            2.0\n",
       "102     P0103   22    Defender   Team 1            31            2.7\n",
       "108     P0109   35     Forward   Team 2            35            9.4\n",
       "116     P0117   31  Goalkeeper  Team 19            25            2.1\n",
       "185     P0186   21  Midfielder   Team 4            29            9.9\n",
       "193     P0194   22    Defender  Team 11            26            9.5\n",
       "194     P0195   29     Forward   Team 6            33            1.0\n",
       "212     P0213   30    Defender   Team 7            26           15.0\n",
       "297     P0298   29  Goalkeeper  Team 17            31            2.0\n",
       "299     P0300   28  Midfielder   Team 3            21            9.6\n",
       "301     P0302   34    Defender  Team 19            30           15.0\n",
       "315     P0316   27  Midfielder  Team 15            28           13.0\n",
       "349     P0350   28    Defender  Team 12            25           10.0\n",
       "352     P0353   32  Goalkeeper  Team 20            20           10.0\n",
       "375     P0376   29     Forward   Team 3            29            9.7\n",
       "387     P0388   21  Goalkeeper   Team 1            35           14.0\n",
       "397     P0398   32  Midfielder   Team 4            34           14.0\n",
       "430     P0431   25    Defender  Team 11            37            9.1\n",
       "438     P0439   30  Midfielder  Team 11            26           15.0\n",
       "456     P0457   25     Forward   Team 4            27           12.0\n",
       "649     P0650   33     Forward   Team 5            31            1.0\n",
       "657     P0658   22     Forward   Team 5            27            9.6\n",
       "668     P0669   19    Defender  Team 12            26            9.1\n",
       "687     P0688   21    Defender  Team 20            31            2.0\n",
       "698     P0699   28  Midfielder  Team 14            22           14.0\n",
       "732     P0733   25  Goalkeeper   Team 1            28            9.1\n",
       "744     P0745   24     Forward   Team 8            22           15.0\n",
       "772     P0773   23     Forward   Team 7            37            9.1\n",
       "774     P0775   26     Forward  Team 15            27           10.0\n",
       "839     P0840   28     Forward   Team 1            38            9.3\n",
       "875     P0876   23     Forward  Team 14            27            9.2\n",
       "881     P0882   23  Midfielder   Team 1            32            1.0\n",
       "892     P0893   31  Midfielder   Team 8            24           10.0\n",
       "959     P0960   22  Goalkeeper  Team 18            26            2.3\n",
       "985     P0986   29     Forward  Team 15            37           12.0"
      ]
     },
     "execution_count": 35,
     "metadata": {},
     "output_type": "execute_result"
    }
   ],
   "source": [
    "outliers_players"
   ]
  },
  {
   "cell_type": "markdown",
   "id": "cc71ab22",
   "metadata": {},
   "source": [
    "## Task6\n",
    "\n",
    "-  Remove outliers from both the 'age' and 'player_rating' columns and then visualize the adjusted data using histogram plots.\n"
   ]
  },
  {
   "cell_type": "code",
   "execution_count": 36,
   "id": "fef877cb",
   "metadata": {},
   "outputs": [],
   "source": [
    "df_layers =df[(df[\"player_rating\"]>lowe_player)&(df[\"player_rating\"]<upper_player)]"
   ]
  },
  {
   "cell_type": "code",
   "execution_count": 37,
   "id": "b10630ad-6840-4ab4-8b23-116ed62e304c",
   "metadata": {},
   "outputs": [
    {
     "data": {
      "text/html": [
       "<div>\n",
       "<style scoped>\n",
       "    .dataframe tbody tr th:only-of-type {\n",
       "        vertical-align: middle;\n",
       "    }\n",
       "\n",
       "    .dataframe tbody tr th {\n",
       "        vertical-align: top;\n",
       "    }\n",
       "\n",
       "    .dataframe thead th {\n",
       "        text-align: right;\n",
       "    }\n",
       "</style>\n",
       "<table border=\"1\" class=\"dataframe\">\n",
       "  <thead>\n",
       "    <tr style=\"text-align: right;\">\n",
       "      <th></th>\n",
       "      <th>player_id</th>\n",
       "      <th>age</th>\n",
       "      <th>position</th>\n",
       "      <th>team</th>\n",
       "      <th>games_played</th>\n",
       "      <th>player_rating</th>\n",
       "    </tr>\n",
       "  </thead>\n",
       "  <tbody>\n",
       "    <tr>\n",
       "      <th>0</th>\n",
       "      <td>P0001</td>\n",
       "      <td>34</td>\n",
       "      <td>Forward</td>\n",
       "      <td>Team 14</td>\n",
       "      <td>29</td>\n",
       "      <td>7.2</td>\n",
       "    </tr>\n",
       "    <tr>\n",
       "      <th>1</th>\n",
       "      <td>P0002</td>\n",
       "      <td>29</td>\n",
       "      <td>Defender</td>\n",
       "      <td>Team 15</td>\n",
       "      <td>27</td>\n",
       "      <td>8.3</td>\n",
       "    </tr>\n",
       "    <tr>\n",
       "      <th>2</th>\n",
       "      <td>P0003</td>\n",
       "      <td>31</td>\n",
       "      <td>Goalkeeper</td>\n",
       "      <td>Team 4</td>\n",
       "      <td>39</td>\n",
       "      <td>6.4</td>\n",
       "    </tr>\n",
       "    <tr>\n",
       "      <th>3</th>\n",
       "      <td>P0004</td>\n",
       "      <td>36</td>\n",
       "      <td>Goalkeeper</td>\n",
       "      <td>Team 6</td>\n",
       "      <td>35</td>\n",
       "      <td>6.6</td>\n",
       "    </tr>\n",
       "    <tr>\n",
       "      <th>4</th>\n",
       "      <td>P0005</td>\n",
       "      <td>34</td>\n",
       "      <td>Defender</td>\n",
       "      <td>Team 14</td>\n",
       "      <td>26</td>\n",
       "      <td>7.2</td>\n",
       "    </tr>\n",
       "    <tr>\n",
       "      <th>...</th>\n",
       "      <td>...</td>\n",
       "      <td>...</td>\n",
       "      <td>...</td>\n",
       "      <td>...</td>\n",
       "      <td>...</td>\n",
       "      <td>...</td>\n",
       "    </tr>\n",
       "    <tr>\n",
       "      <th>995</th>\n",
       "      <td>P0996</td>\n",
       "      <td>29</td>\n",
       "      <td>Defender</td>\n",
       "      <td>Team 19</td>\n",
       "      <td>22</td>\n",
       "      <td>7.6</td>\n",
       "    </tr>\n",
       "    <tr>\n",
       "      <th>996</th>\n",
       "      <td>P0997</td>\n",
       "      <td>26</td>\n",
       "      <td>Defender</td>\n",
       "      <td>Team 10</td>\n",
       "      <td>39</td>\n",
       "      <td>4.4</td>\n",
       "    </tr>\n",
       "    <tr>\n",
       "      <th>997</th>\n",
       "      <td>P0998</td>\n",
       "      <td>27</td>\n",
       "      <td>Forward</td>\n",
       "      <td>Team 8</td>\n",
       "      <td>40</td>\n",
       "      <td>6.4</td>\n",
       "    </tr>\n",
       "    <tr>\n",
       "      <th>998</th>\n",
       "      <td>P0999</td>\n",
       "      <td>22</td>\n",
       "      <td>Defender</td>\n",
       "      <td>Team 10</td>\n",
       "      <td>27</td>\n",
       "      <td>6.0</td>\n",
       "    </tr>\n",
       "    <tr>\n",
       "      <th>999</th>\n",
       "      <td>P1000</td>\n",
       "      <td>26</td>\n",
       "      <td>Defender</td>\n",
       "      <td>Team 9</td>\n",
       "      <td>34</td>\n",
       "      <td>7.2</td>\n",
       "    </tr>\n",
       "  </tbody>\n",
       "</table>\n",
       "<p>956 rows × 6 columns</p>\n",
       "</div>"
      ],
      "text/plain": [
       "    player_id  age    position     team  games_played  player_rating\n",
       "0       P0001   34     Forward  Team 14            29            7.2\n",
       "1       P0002   29    Defender  Team 15            27            8.3\n",
       "2       P0003   31  Goalkeeper   Team 4            39            6.4\n",
       "3       P0004   36  Goalkeeper   Team 6            35            6.6\n",
       "4       P0005   34    Defender  Team 14            26            7.2\n",
       "..        ...  ...         ...      ...           ...            ...\n",
       "995     P0996   29    Defender  Team 19            22            7.6\n",
       "996     P0997   26    Defender  Team 10            39            4.4\n",
       "997     P0998   27     Forward   Team 8            40            6.4\n",
       "998     P0999   22    Defender  Team 10            27            6.0\n",
       "999     P1000   26    Defender   Team 9            34            7.2\n",
       "\n",
       "[956 rows x 6 columns]"
      ]
     },
     "execution_count": 37,
     "metadata": {},
     "output_type": "execute_result"
    }
   ],
   "source": [
    "df_layers"
   ]
  },
  {
   "cell_type": "markdown",
   "id": "7cb10d56",
   "metadata": {},
   "source": [
    "- **plot the histograms**"
   ]
  },
  {
   "cell_type": "code",
   "execution_count": 30,
   "id": "2cdffb56-aefc-4bee-b56c-861a945fc56e",
   "metadata": {},
   "outputs": [
    {
     "data": {
      "text/plain": [
       "<AxesSubplot:xlabel='age', ylabel='Count'>"
      ]
     },
     "execution_count": 30,
     "metadata": {},
     "output_type": "execute_result"
    },
    {
     "data": {
      "image/png": "[encoded data removed]",
      "text/plain": [
       "<Figure size 640x480 with 1 Axes>"
      ]
     },
     "metadata": {},
     "output_type": "display_data"
    }
   ],
   "source": [
    "sns.histplot(df_new_age[\"age\"],kde=True)"
   ]
  },
  {
   "cell_type": "code",
   "execution_count": 38,
   "id": "7b7c1296",
   "metadata": {},
   "outputs": [
    {
     "data": {
      "text/plain": [
       "<AxesSubplot:xlabel='player_rating', ylabel='Count'>"
      ]
     },
     "execution_count": 38,
     "metadata": {},
     "output_type": "execute_result"
    },
    {
     "data": {
      "image/png": "[encoded data removed]",
      "text/plain": [
       "<Figure size 640x480 with 1 Axes>"
      ]
     },
     "metadata": {},
     "output_type": "display_data"
    }
   ],
   "source": [
    "sns.histplot(df_layers[\"player_rating\"],kde=True)"
   ]
  },
  {
   "cell_type": "code",
   "execution_count": null,
   "id": "6a1bc4c2-bfdd-453c-97d6-e7b445c13557",
   "metadata": {},
   "outputs": [],
   "source": []
  }
 ],
 "metadata": {
  "kernelspec": {
   "display_name": "Python 3 (ipykernel)",
   "language": "python",
   "name": "python3"
  },
  "language_info": {
   "codemirror_mode": {
    "name": "ipython",
    "version": 3
   },
   "file_extension": ".py",
   "mimetype": "text/x-python",
   "name": "python",
   "nbconvert_exporter": "python",
   "pygments_lexer": "ipython3",
   "version": "3.9.13"
  }
 },
 "nbformat": 4,
 "nbformat_minor": 5
}
