{
 "cells": [
  {
   "cell_type": "markdown",
   "id": "fadee7d5",
   "metadata": {},
   "source": [
    "## Covert cell into markdown\n",
    "\n",
    "# Esc+M: To convert cell into markdown"
   ]
  },
  {
   "cell_type": "markdown",
   "id": "d5bd1201",
   "metadata": {},
   "source": [
    "# To add cell above = A\n",
    "# To add cell below = B"
   ]
  },
  {
   "cell_type": "code",
   "execution_count": 3,
   "id": "ec6efb1b",
   "metadata": {},
   "outputs": [
    {
     "data": {
      "text/plain": [
       "4.0"
      ]
     },
     "execution_count": 3,
     "metadata": {},
     "output_type": "execute_result"
    }
   ],
   "source": [
    "## getting sqrt of a number\n",
    "import math\n",
    "ans = math.sqrt(16)\n",
    "ans"
   ]
  },
  {
   "cell_type": "code",
   "execution_count": 4,
   "id": "eb4b6b54",
   "metadata": {},
   "outputs": [
    {
     "data": {
      "text/plain": [
       "120"
      ]
     },
     "execution_count": 4,
     "metadata": {},
     "output_type": "execute_result"
    }
   ],
   "source": [
    "## Factorial\n",
    "\n",
    "math.factorial(5)"
   ]
  },
  {
   "cell_type": "raw",
   "id": "ba8039da",
   "metadata": {},
   "source": [
    "### Short cuts for jupyter notebook\n",
    "\n",
    "This is something\n",
    "# HEADDERS\n",
    "**bold words**\n",
    "_italic_\n",
    "- bullet lists\n",
    "- Bullet list 2\n",
    "1. Number lists\n",
    "2. Number lists 2\n",
    "\n",
    "[hyperlink](url)\n",
    "[www.google.com](url)"
   ]
  },
  {
   "cell_type": "markdown",
   "id": "1f0ac964",
   "metadata": {},
   "source": [
    "# HEADDERS\n",
    "**bold words**\n",
    "_italic_"
   ]
  },
  {
   "cell_type": "markdown",
   "id": "4cf116ee",
   "metadata": {},
   "source": [
    "- bullet lists\n",
    "- Bullet list 2\n",
    "1. Number lists\n",
    "2. Number lists 2\n",
    "\n",
    "[hyperlink](url)\n",
    "[www.google.com](url)"
   ]
  },
  {
   "cell_type": "markdown",
   "id": "7fa63077",
   "metadata": {},
   "source": [
    "## Line plot\n",
    "\n",
    "1. THis visulization is used to find patterns in the data\n",
    "2. Example Sales Pattern"
   ]
  },
  {
   "cell_type": "markdown",
   "id": "a8754c59",
   "metadata": {},
   "source": [
    "# shortcut of jupyter notebook\n",
    "\n",
    "- shift+Enter = Run a cell\n",
    "- esc+b = inser a cell below\n",
    "- esc+a = inser a cell above\n",
    "- dd = delet a cell\n",
    "- z = undo a deleted cell\n",
    "- y = to convert into code cell\n",
    "- m = to convert into markdown cell\n",
    "- r = to convert into raw cell\n",
    "- v = past\n",
    "- c = copy a cell\n",
    "- x = cut a cell\n"
   ]
  },
  {
   "cell_type": "code",
   "execution_count": null,
   "id": "5fbb3de9",
   "metadata": {},
   "outputs": [],
   "source": []
  }
 ],
 "metadata": {
  "kernelspec": {
   "display_name": "Python 3 (ipykernel)",
   "language": "python",
   "name": "python3"
  },
  "language_info": {
   "codemirror_mode": {
    "name": "ipython",
    "version": 3
   },
   "file_extension": ".py",
   "mimetype": "text/x-python",
   "name": "python",
   "nbconvert_exporter": "python",
   "pygments_lexer": "ipython3",
   "version": "3.9.13"
  }
 },
 "nbformat": 4,
 "nbformat_minor": 5
}
