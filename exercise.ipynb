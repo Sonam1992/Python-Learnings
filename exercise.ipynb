{
 "cells": [
  {
   "cell_type": "markdown",
   "metadata": {
    "tags": []
   },
   "source": [
    "# Telecom Customer Churn Case Study\n",
    "\n",
    "You have been provided with a dataset related to telecom customer churn. Each row in the dataset represents a unique customer, and the columns contain various attributes and information about these customers.\n",
    "\n",
    "The data set includes information about:\n",
    "- Churn Column: Indicates customer churn within the last month.\n",
    "- Services Info: Subscribed services like phone, internet, etc.\n",
    "- Account Details: Tenure, contract, billing, charges.\n",
    "- Demographics: Gender, age, and family status.\n"
   ]
  },
  {
   "cell_type": "markdown",
   "metadata": {},
   "source": [
    "## Load the dataset in a dataframe"
   ]
  },
  {
   "cell_type": "code",
   "execution_count": null,
   "metadata": {},
   "outputs": [],
   "source": [
    "#import necessary libraries\n",
    "\n",
    "import pandas as pd\n",
    "from matplotlib import pyplot as plt"
   ]
  },
  {
   "cell_type": "code",
   "execution_count": null,
   "metadata": {},
   "outputs": [
    {
     "data": {
      "text/plain": [
       "array(['Month-to-month', 'One year', 'Two year'], dtype=object)"
      ]
     },
     "execution_count": 23,
     "metadata": {},
     "output_type": "execute_result"
    }
   ],
   "source": [
    "#1. import the provided dataset to dataframe (telecom_customer_churn.csv)\n",
    "df = pd.read_csv(\"telecom_customer_churn.csv\")\n",
    "df.contract.unique()"
   ]
  },
  {
   "cell_type": "code",
   "execution_count": null,
   "metadata": {},
   "outputs": [],
   "source": [
    "#2. change the settings to display all the columns\n",
    "\n",
    "pd.set_option('display.max_rows',None)"
   ]
  },
  {
   "cell_type": "code",
   "execution_count": null,
   "metadata": {},
   "outputs": [
    {
     "data": {
      "text/plain": [
       "(7043, 21)"
      ]
     },
     "execution_count": 4,
     "metadata": {},
     "output_type": "execute_result"
    }
   ],
   "source": [
    "#3. check the number of rows and columns\n",
    "df.shape"
   ]
  },
  {
   "cell_type": "code",
   "execution_count": null,
   "metadata": {},
   "outputs": [],
   "source": [
    "#4. check the top 5 rows\n",
    "\n",
    "df.head()"
   ]
  },
  {
   "cell_type": "code",
   "execution_count": null,
   "metadata": {},
   "outputs": [
    {
     "name": "stdout",
     "output_type": "stream",
     "text": [
      "Index(['customer_id', 'gender', 'senior_citizen', 'partner', 'dependents',\n",
      "       'tenure', 'phone_service', 'multiple_lines', 'internet_service',\n",
      "       'online_security', 'online_backup', 'device_protection', 'tech_support',\n",
      "       'streaming_tv', 'streaming_movies', 'contract', 'paperless_billing',\n",
      "       'payment_method', 'monthly_charges', 'total_charges', 'churn'],\n",
      "      dtype='object')\n"
     ]
    }
   ],
   "source": [
    "#display all the column names\n",
    "print(df.columns)"
   ]
  },
  {
   "cell_type": "code",
   "execution_count": null,
   "metadata": {},
   "outputs": [
    {
     "data": {
      "text/plain": [
       "customer_id          0\n",
       "gender               0\n",
       "senior_citizen       0\n",
       "partner              0\n",
       "dependents           0\n",
       "tenure               0\n",
       "phone_service        0\n",
       "multiple_lines       0\n",
       "internet_service     0\n",
       "online_security      0\n",
       "online_backup        0\n",
       "device_protection    0\n",
       "tech_support         0\n",
       "streaming_tv         0\n",
       "streaming_movies     0\n",
       "contract             0\n",
       "paperless_billing    0\n",
       "payment_method       0\n",
       "monthly_charges      0\n",
       "total_charges        0\n",
       "churn                0\n",
       "dtype: int64"
      ]
     },
     "execution_count": 6,
     "metadata": {},
     "output_type": "execute_result"
    }
   ],
   "source": [
    "# Check if the dataset contains nulls\n",
    "\n",
    "df.isnull().sum()"
   ]
  },
  {
   "cell_type": "code",
   "execution_count": null,
   "metadata": {},
   "outputs": [],
   "source": [
    "#check the datatype of all columns\n",
    "\n",
    "df.info()"
   ]
  },
  {
   "cell_type": "code",
   "execution_count": null,
   "metadata": {},
   "outputs": [],
   "source": [
    "# Fix the datatype\n",
    "#convert the datatype of 'monthly_charges', 'total_charges', 'tenure' to numeric datatype (pd.to_numeric)\n",
    "\n",
    "\n",
    "df.monthly_charges = pd.to_numeric(df['monthly_charges'])\n",
    "df.total_charges = pd.to_numeric(df[\"total_charges\"])\n",
    "df.tenure = pd.to_numeric(df['tenure'])\n"
   ]
  },
  {
   "cell_type": "code",
   "execution_count": null,
   "metadata": {},
   "outputs": [
    {
     "name": "stdout",
     "output_type": "stream",
     "text": [
      "<class 'pandas.core.frame.DataFrame'>\n",
      "RangeIndex: 7043 entries, 0 to 7042\n",
      "Data columns (total 21 columns):\n",
      " #   Column             Non-Null Count  Dtype  \n",
      "---  ------             --------------  -----  \n",
      " 0   customer_id        7043 non-null   object \n",
      " 1   gender             7043 non-null   object \n",
      " 2   senior_citizen     7043 non-null   int64  \n",
      " 3   partner            7043 non-null   object \n",
      " 4   dependents         7043 non-null   object \n",
      " 5   tenure             7043 non-null   int64  \n",
      " 6   phone_service      7043 non-null   object \n",
      " 7   multiple_lines     7043 non-null   object \n",
      " 8   internet_service   7043 non-null   object \n",
      " 9   online_security    7043 non-null   object \n",
      " 10  online_backup      7043 non-null   object \n",
      " 11  device_protection  7043 non-null   object \n",
      " 12  tech_support       7043 non-null   object \n",
      " 13  streaming_tv       7043 non-null   object \n",
      " 14  streaming_movies   7043 non-null   object \n",
      " 15  contract           7043 non-null   object \n",
      " 16  paperless_billing  7043 non-null   object \n",
      " 17  payment_method     7043 non-null   object \n",
      " 18  monthly_charges    7043 non-null   float64\n",
      " 19  total_charges      7043 non-null   object \n",
      " 20  churn              7043 non-null   object \n",
      "dtypes: float64(1), int64(2), object(18)\n",
      "memory usage: 1.1+ MB\n"
     ]
    }
   ],
   "source": [
    "df.info()"
   ]
  },
  {
   "cell_type": "code",
   "execution_count": null,
   "metadata": {},
   "outputs": [],
   "source": []
  },
  {
   "cell_type": "markdown",
   "metadata": {},
   "source": [
    "Q1 - Calculate the mean, median, and mode of the monthly_charges column"
   ]
  },
  {
   "cell_type": "code",
   "execution_count": null,
   "metadata": {},
   "outputs": [],
   "source": [
    "df.monthly_charges.mean(),df.monthly_charges.median(),df.monthly_charges.mode()"
   ]
  },
  {
   "cell_type": "markdown",
   "metadata": {},
   "source": [
    "Q2 - Calculate the 25th, 50th, and 75th percentiles of the total_charges column"
   ]
  },
  {
   "cell_type": "code",
   "execution_count": null,
   "metadata": {},
   "outputs": [],
   "source": [
    "df.total_charges.quantile([0.25]),df.total_charges.quantile([0.50]),df.total_charges.quantile([0.75])"
   ]
  },
  {
   "cell_type": "markdown",
   "metadata": {},
   "source": [
    "Q3 - Calculate the range of monthly_charges column?\n",
    "\n",
    "Hint - Range is the difference between max and min of monthly_charges."
   ]
  },
  {
   "cell_type": "code",
   "execution_count": null,
   "metadata": {},
   "outputs": [
    {
     "data": {
      "text/plain": [
       "100.5"
      ]
     },
     "execution_count": 8,
     "metadata": {},
     "output_type": "execute_result"
    }
   ],
   "source": [
    "rangs=df.monthly_charges.max() - df.monthly_charges.min()\n",
    "rangs"
   ]
  },
  {
   "cell_type": "markdown",
   "metadata": {},
   "source": [
    "Q4 - What is the first quartile of the monthly_charges column for customers who have not churned?"
   ]
  },
  {
   "cell_type": "code",
   "execution_count": null,
   "metadata": {},
   "outputs": [
    {
     "data": {
      "text/plain": [
       "0.25    25.1\n",
       "Name: monthly_charges, dtype: float64"
      ]
     },
     "execution_count": 16,
     "metadata": {},
     "output_type": "execute_result"
    }
   ],
   "source": [
    "Non_churn = df[df[\"churn\"]=='No']\n",
    "qtl1= Non_churn[\"monthly_charges\"].quantile([0.25])\n",
    "qtl1"
   ]
  },
  {
   "cell_type": "markdown",
   "metadata": {},
   "source": [
    "Q5 - What is the third quartile of the total_charges column for customers who have churned?"
   ]
  },
  {
   "cell_type": "code",
   "execution_count": null,
   "metadata": {},
   "outputs": [],
   "source": [
    "churn = df[df[\"churn\"]=='Yes']\n",
    "qtl3= churn[\"total_charges\"].quantile([0.75])\n",
    "qtl3"
   ]
  },
  {
   "cell_type": "markdown",
   "metadata": {},
   "source": [
    "Q6-  What is the mode of the payment method column for customers who have churned?"
   ]
  },
  {
   "cell_type": "code",
   "execution_count": null,
   "metadata": {},
   "outputs": [
    {
     "data": {
      "text/plain": [
       "array(['Mailed check', 'Electronic check', 'Bank transfer (automatic)',\n",
       "       'Credit card (automatic)'], dtype=object)"
      ]
     },
     "execution_count": 19,
     "metadata": {},
     "output_type": "execute_result"
    }
   ],
   "source": [
    "churn = df[df[\"churn\"]=='Yes']\n",
    "\n",
    "churn[\"payment_method\"].unique()"
   ]
  },
  {
   "cell_type": "markdown",
   "metadata": {},
   "source": [
    "Q7 - What is the mean of the total charges column for customers who have churned and have a month-to-month contract?"
   ]
  },
  {
   "cell_type": "code",
   "execution_count": null,
   "metadata": {},
   "outputs": [],
   "source": [
    "# Filter the rows based on the churn status and contract type\n",
    "churn = df[(df[\"churn\"]=='Yes') & (df[\"contract\"]==\"Month-to-month\")]\n",
    "\n",
    "# Calculate the mean of the total charges column\n",
    "\n",
    "val = churn[\"total_charges\"].mean()\n",
    "\n",
    "# Print the result\n",
    "val"
   ]
  },
  {
   "cell_type": "markdown",
   "metadata": {},
   "source": [
    "Q8 - What is the median of the tenure column for customers who have not churned and have a two-year contract?"
   ]
  },
  {
   "cell_type": "code",
   "execution_count": null,
   "metadata": {},
   "outputs": [
    {
     "data": {
      "text/plain": [
       "64.0"
      ]
     },
     "execution_count": 25,
     "metadata": {},
     "output_type": "execute_result"
    }
   ],
   "source": [
    "# Filter the rows based on the churn status and contract type\n",
    "Non_churn = df[(df[\"churn\"]=='No') & (df[\"contract\"]==\"Two year\")]\n",
    "\n",
    "# Calculate the median of the tenure column\n",
    "\n",
    "M_N_tenure = Non_churn[\"tenure\"].median()\n",
    "\n",
    "\n",
    "# Print the result\n",
    "M_N_tenure\n"
   ]
  },
  {
   "cell_type": "code",
   "execution_count": null,
   "metadata": {},
   "outputs": [],
   "source": []
  }
 ],
 "metadata": {
  "kernelspec": {
   "display_name": "Python 3 (ipykernel)",
   "language": "python",
   "name": "python3"
  },
  "language_info": {
   "codemirror_mode": {
    "name": "ipython",
    "version": 3
   },
   "file_extension": ".py",
   "mimetype": "text/x-python",
   "name": "python",
   "nbconvert_exporter": "python",
   "pygments_lexer": "ipython3",
   "version": "3.9.13"
  }
 },
 "nbformat": 4,
 "nbformat_minor": 4
}
