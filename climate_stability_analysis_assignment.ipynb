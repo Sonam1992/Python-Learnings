{
 "cells": [
  {
   "cell_type": "markdown",
   "id": "61c6fd18",
   "metadata": {},
   "source": [
    "### Comparing Weather Temperature Variability for Agricultural Investment Decisions\n",
    "\n",
    "**context:** An agricultural investment firm is in the process of deciding on a location for a new farming project. Understanding that **consistent** and predictable weather conditions are vital for successful agriculture, the firm aims to evaluate and compare two potential cities based on their temperature stability. The key factor in this decision-making process is the variability in average daily temperatures, as it directly impacts crop growth and agricultural planning.\n",
    "\n",
    "The firm has provided a dataset, named **\"climate_stability_comparison.xlsx\"**, to aid in this assessment. This dataset includes the following columns:\n",
    "\n",
    "- **month:** Indicates the month of the year.\n",
    "- **Avg Temp City A (°C):** The average daily temperature for City A in each month, measured in degrees Celsius.\n",
    "- **Avg Temp City B (°C):** The average daily temperature for City B in each month, measured in degrees Celsius."
   ]
  },
  {
   "cell_type": "markdown",
   "id": "8f7f7cf8",
   "metadata": {},
   "source": [
    "### Task Objective\n",
    "\n",
    "- Calculate the standard deviation for average temperatures in both cities.\n",
    "- Determine which city has a higher temperature variability.\n",
    "- Decide on the city with more stable (lower variability) temperatures for agricultural investment."
   ]
  },
  {
   "cell_type": "code",
   "execution_count": null,
   "id": "faf52c1c",
   "metadata": {},
   "outputs": [],
   "source": []
  },
  {
   "cell_type": "markdown",
   "id": "82e43619",
   "metadata": {},
   "source": [
    "**Import necessary libraries**"
   ]
  },
  {
   "cell_type": "code",
   "execution_count": 1,
   "id": "183bc784",
   "metadata": {},
   "outputs": [],
   "source": [
    "import pandas as pd\n"
   ]
  },
  {
   "cell_type": "code",
   "execution_count": null,
   "id": "ef78c41a",
   "metadata": {},
   "outputs": [],
   "source": []
  },
  {
   "cell_type": "markdown",
   "id": "53cfa5ee",
   "metadata": {},
   "source": [
    "**1: Data Import**"
   ]
  },
  {
   "cell_type": "code",
   "execution_count": 2,
   "id": "f56d4dab",
   "metadata": {},
   "outputs": [
    {
     "data": {
      "text/html": [
       "<div>\n",
       "<style scoped>\n",
       "    .dataframe tbody tr th:only-of-type {\n",
       "        vertical-align: middle;\n",
       "    }\n",
       "\n",
       "    .dataframe tbody tr th {\n",
       "        vertical-align: top;\n",
       "    }\n",
       "\n",
       "    .dataframe thead th {\n",
       "        text-align: right;\n",
       "    }\n",
       "</style>\n",
       "<table border=\"1\" class=\"dataframe\">\n",
       "  <thead>\n",
       "    <tr style=\"text-align: right;\">\n",
       "      <th></th>\n",
       "      <th>month</th>\n",
       "      <th>Avg Temp City A (°C)</th>\n",
       "      <th>Avg Temp City B (°C)</th>\n",
       "    </tr>\n",
       "  </thead>\n",
       "  <tbody>\n",
       "    <tr>\n",
       "      <th>0</th>\n",
       "      <td>January</td>\n",
       "      <td>14</td>\n",
       "      <td>13</td>\n",
       "    </tr>\n",
       "    <tr>\n",
       "      <th>1</th>\n",
       "      <td>February</td>\n",
       "      <td>15</td>\n",
       "      <td>16</td>\n",
       "    </tr>\n",
       "    <tr>\n",
       "      <th>2</th>\n",
       "      <td>March</td>\n",
       "      <td>14</td>\n",
       "      <td>18</td>\n",
       "    </tr>\n",
       "    <tr>\n",
       "      <th>3</th>\n",
       "      <td>April</td>\n",
       "      <td>16</td>\n",
       "      <td>20</td>\n",
       "    </tr>\n",
       "    <tr>\n",
       "      <th>4</th>\n",
       "      <td>May</td>\n",
       "      <td>17</td>\n",
       "      <td>19</td>\n",
       "    </tr>\n",
       "    <tr>\n",
       "      <th>5</th>\n",
       "      <td>June</td>\n",
       "      <td>18</td>\n",
       "      <td>23</td>\n",
       "    </tr>\n",
       "    <tr>\n",
       "      <th>6</th>\n",
       "      <td>July</td>\n",
       "      <td>19</td>\n",
       "      <td>25</td>\n",
       "    </tr>\n",
       "    <tr>\n",
       "      <th>7</th>\n",
       "      <td>August</td>\n",
       "      <td>18</td>\n",
       "      <td>22</td>\n",
       "    </tr>\n",
       "    <tr>\n",
       "      <th>8</th>\n",
       "      <td>September</td>\n",
       "      <td>17</td>\n",
       "      <td>18</td>\n",
       "    </tr>\n",
       "    <tr>\n",
       "      <th>9</th>\n",
       "      <td>October</td>\n",
       "      <td>16</td>\n",
       "      <td>14</td>\n",
       "    </tr>\n",
       "    <tr>\n",
       "      <th>10</th>\n",
       "      <td>November</td>\n",
       "      <td>15</td>\n",
       "      <td>12</td>\n",
       "    </tr>\n",
       "    <tr>\n",
       "      <th>11</th>\n",
       "      <td>December</td>\n",
       "      <td>14</td>\n",
       "      <td>13</td>\n",
       "    </tr>\n",
       "  </tbody>\n",
       "</table>\n",
       "</div>"
      ],
      "text/plain": [
       "        month  Avg Temp City A (°C)  Avg Temp City B (°C)\n",
       "0     January                    14                    13\n",
       "1    February                    15                    16\n",
       "2       March                    14                    18\n",
       "3       April                    16                    20\n",
       "4         May                    17                    19\n",
       "5        June                    18                    23\n",
       "6        July                    19                    25\n",
       "7      August                    18                    22\n",
       "8   September                    17                    18\n",
       "9     October                    16                    14\n",
       "10   November                    15                    12\n",
       "11   December                    14                    13"
      ]
     },
     "execution_count": 2,
     "metadata": {},
     "output_type": "execute_result"
    }
   ],
   "source": [
    "df = pd.read_excel(\"climate_stability_comparison.xlsx\")\n",
    "df"
   ]
  },
  {
   "cell_type": "markdown",
   "id": "f8a87ee5",
   "metadata": {},
   "source": [
    "**2: Calculate standard deviations**"
   ]
  },
  {
   "cell_type": "code",
   "execution_count": 3,
   "id": "e89bf08b",
   "metadata": {},
   "outputs": [
    {
     "data": {
      "text/html": [
       "<div>\n",
       "<style scoped>\n",
       "    .dataframe tbody tr th:only-of-type {\n",
       "        vertical-align: middle;\n",
       "    }\n",
       "\n",
       "    .dataframe tbody tr th {\n",
       "        vertical-align: top;\n",
       "    }\n",
       "\n",
       "    .dataframe thead th {\n",
       "        text-align: right;\n",
       "    }\n",
       "</style>\n",
       "<table border=\"1\" class=\"dataframe\">\n",
       "  <thead>\n",
       "    <tr style=\"text-align: right;\">\n",
       "      <th></th>\n",
       "      <th>Avg Temp City A (°C)</th>\n",
       "      <th>Avg Temp City B (°C)</th>\n",
       "    </tr>\n",
       "  </thead>\n",
       "  <tbody>\n",
       "    <tr>\n",
       "      <th>count</th>\n",
       "      <td>12.000000</td>\n",
       "      <td>12.000000</td>\n",
       "    </tr>\n",
       "    <tr>\n",
       "      <th>mean</th>\n",
       "      <td>16.083333</td>\n",
       "      <td>17.750000</td>\n",
       "    </tr>\n",
       "    <tr>\n",
       "      <th>std</th>\n",
       "      <td>1.729862</td>\n",
       "      <td>4.266679</td>\n",
       "    </tr>\n",
       "    <tr>\n",
       "      <th>min</th>\n",
       "      <td>14.000000</td>\n",
       "      <td>12.000000</td>\n",
       "    </tr>\n",
       "    <tr>\n",
       "      <th>25%</th>\n",
       "      <td>14.750000</td>\n",
       "      <td>13.750000</td>\n",
       "    </tr>\n",
       "    <tr>\n",
       "      <th>50%</th>\n",
       "      <td>16.000000</td>\n",
       "      <td>18.000000</td>\n",
       "    </tr>\n",
       "    <tr>\n",
       "      <th>75%</th>\n",
       "      <td>17.250000</td>\n",
       "      <td>20.500000</td>\n",
       "    </tr>\n",
       "    <tr>\n",
       "      <th>max</th>\n",
       "      <td>19.000000</td>\n",
       "      <td>25.000000</td>\n",
       "    </tr>\n",
       "  </tbody>\n",
       "</table>\n",
       "</div>"
      ],
      "text/plain": [
       "       Avg Temp City A (°C)  Avg Temp City B (°C)\n",
       "count             12.000000             12.000000\n",
       "mean              16.083333             17.750000\n",
       "std                1.729862              4.266679\n",
       "min               14.000000             12.000000\n",
       "25%               14.750000             13.750000\n",
       "50%               16.000000             18.000000\n",
       "75%               17.250000             20.500000\n",
       "max               19.000000             25.000000"
      ]
     },
     "execution_count": 3,
     "metadata": {},
     "output_type": "execute_result"
    }
   ],
   "source": [
    "#calculate standard deviation for both City A and City B\n",
    "\n",
    "# -----> 'City A' standard deviation\n",
    "\n",
    "df.describe()"
   ]
  },
  {
   "cell_type": "code",
   "execution_count": 7,
   "id": "67011f64",
   "metadata": {},
   "outputs": [],
   "source": [
    "city_a = df[\"Avg Temp City A (°C)\"].std()"
   ]
  },
  {
   "cell_type": "code",
   "execution_count": 8,
   "id": "a778a41c",
   "metadata": {},
   "outputs": [],
   "source": [
    "# -----> 'City B' standard deviation\n",
    "\n",
    "city_b = df[\"Avg Temp City B (°C)\"].std()"
   ]
  },
  {
   "cell_type": "markdown",
   "id": "1aaad487",
   "metadata": {},
   "source": [
    "**3: Comparison**"
   ]
  },
  {
   "cell_type": "code",
   "execution_count": 9,
   "id": "65462d6c",
   "metadata": {},
   "outputs": [
    {
     "name": "stdout",
     "output_type": "stream",
     "text": [
      "Invest in City A due to more stable temperature conditions.\n"
     ]
    }
   ],
   "source": [
    "# Decision Making\n",
    "if city_a < city_b:\n",
    "    print(\"Invest in City A due to more stable temperature conditions.\")\n",
    "else:\n",
    "    print(\"Invest in City B due to more stable temperature conditions.\")"
   ]
  },
  {
   "cell_type": "markdown",
   "id": "a06f8038",
   "metadata": {},
   "source": [
    "**4: Observation and Decision**"
   ]
  },
  {
   "cell_type": "code",
   "execution_count": null,
   "id": "a920aece",
   "metadata": {},
   "outputs": [],
   "source": [
    " on the city A with more stable (lower variability) temperatures for agricultural investment."
   ]
  }
 ],
 "metadata": {
  "kernelspec": {
   "display_name": "Python 3 (ipykernel)",
   "language": "python",
   "name": "python3"
  },
  "language_info": {
   "codemirror_mode": {
    "name": "ipython",
    "version": 3
   },
   "file_extension": ".py",
   "mimetype": "text/x-python",
   "name": "python",
   "nbconvert_exporter": "python",
   "pygments_lexer": "ipython3",
   "version": "3.9.13"
  }
 },
 "nbformat": 4,
 "nbformat_minor": 5
}
